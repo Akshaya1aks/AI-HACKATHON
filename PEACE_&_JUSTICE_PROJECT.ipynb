{
  "nbformat": 4,
  "nbformat_minor": 0,
  "metadata": {
    "colab": {
      "provenance": []
    },
    "kernelspec": {
      "name": "python3",
      "display_name": "Python 3"
    },
    "language_info": {
      "name": "python"
    }
  },
  "cells": [
    {
      "cell_type": "code",
      "execution_count": null,
      "metadata": {
        "id": "fVqLiHm_59xB"
      },
      "outputs": [],
      "source": [
        "import pandas as pd \n",
        "import numpy as np\n",
        "import seaborn as sns\n",
        "import matplotlib.pyplot as plt\n",
        "import sklearn\n",
        "from sklearn.preprocessing import StandardScaler\n",
        "from sklearn.linear_model import LinearRegression\n",
        "from sklearn.preprocessing import LabelEncoder\n",
        "from sklearn.metrics import mean_squared_error,r2_score\n",
        "from sklearn.model_selection import train_test_split"
      ]
    },
    {
      "cell_type": "code",
      "source": [
        "#DATA COLLECTION\n",
        "df = pd.read_csv('/content/dataset2.csv')"
      ],
      "metadata": {
        "id": "HhNISaPv7roB"
      },
      "execution_count": null,
      "outputs": []
    },
    {
      "cell_type": "code",
      "source": [
        "df"
      ],
      "metadata": {
        "colab": {
          "base_uri": "https://localhost:8080/",
          "height": 710
        },
        "id": "TClQPJfzCtGi",
        "outputId": "c63a72ef-174b-4cf4-8231-3187639b5583"
      },
      "execution_count": null,
      "outputs": [
        {
          "output_type": "execute_result",
          "data": {
            "text/plain": [
              "    Sl. No.     Year           State/UT  \\\n",
              "0         1  2018-19     Andhra Pradesh   \n",
              "1         2  2018-19  Arunachal Pradesh   \n",
              "2         3  2018-19              Assam   \n",
              "3         4  2018-19              Bihar   \n",
              "4         5  2018-19       Chhattisgarh   \n",
              "..      ...      ...                ...   \n",
              "106      33  2020-21             Ladakh   \n",
              "107      34  2020-21        Lakshadweep   \n",
              "108      35  2020-21              Delhi   \n",
              "109      36  2020-21         Puducherry   \n",
              "110   Total  2020-21              Total   \n",
              "\n",
              "     Institutional Care (Homes) - Number Assisted  \\\n",
              "0                                            66.0   \n",
              "1                                             4.0   \n",
              "2                                            37.0   \n",
              "3                                            26.0   \n",
              "4                                            65.0   \n",
              "..                                            ...   \n",
              "106                                           NaN   \n",
              "107                                           NaN   \n",
              "108                                          28.0   \n",
              "109                                          25.0   \n",
              "110                                        1592.0   \n",
              "\n",
              "     Institutional Care (Homes) - Beneficiaries  \\\n",
              "0                                        2316.0   \n",
              "1                                          76.0   \n",
              "2                                        1765.0   \n",
              "3                                        1567.0   \n",
              "4                                        2325.0   \n",
              "..                                          ...   \n",
              "106                                         NaN   \n",
              "107                                         NaN   \n",
              "108                                      1196.0   \n",
              "109                                       906.0   \n",
              "110                                     67864.0   \n",
              "\n",
              "     Open Shelters - Number Assisted  Open Shelters - Beneficiaries  \\\n",
              "0                               13.0                          342.0   \n",
              "1                                0.0                            0.0   \n",
              "2                                3.0                           51.0   \n",
              "3                                5.0                          134.0   \n",
              "4                               10.0                          117.0   \n",
              "..                               ...                            ...   \n",
              "106                              NaN                            NaN   \n",
              "107                              NaN                            NaN   \n",
              "108                              9.0                          254.0   \n",
              "109                              1.0                           15.0   \n",
              "110                            250.0                         6000.0   \n",
              "\n",
              "     Specialised Adoption Agencies - Number Assisted  \\\n",
              "0                                               14.0   \n",
              "1                                                1.0   \n",
              "2                                               23.0   \n",
              "3                                               13.0   \n",
              "4                                               12.0   \n",
              "..                                               ...   \n",
              "106                                              NaN   \n",
              "107                                              NaN   \n",
              "108                                              3.0   \n",
              "109                                              2.0   \n",
              "110                                            373.0   \n",
              "\n",
              "     Specialised Adoption Agencies - Beneficiaries  \\\n",
              "0                                            144.0   \n",
              "1                                              9.0   \n",
              "2                                             69.0   \n",
              "3                                            138.0   \n",
              "4                                            120.0   \n",
              "..                                             ...   \n",
              "106                                            NaN   \n",
              "107                                            NaN   \n",
              "108                                           50.0   \n",
              "109                                           35.0   \n",
              "110                                         3751.0   \n",
              "\n",
              "     Juvenile Justice Board - Number Assisted  \n",
              "0                                          13  \n",
              "1                                          21  \n",
              "2                                          33  \n",
              "3                                          38  \n",
              "4                                          27  \n",
              "..                                        ...  \n",
              "106                                         2  \n",
              "107                                         1  \n",
              "108                                         6  \n",
              "109                                         4  \n",
              "110                                       717  \n",
              "\n",
              "[111 rows x 10 columns]"
            ],
            "text/html": [
              "\n",
              "  <div id=\"df-ab0195f4-8b09-4f17-bb79-643346e05f0b\">\n",
              "    <div class=\"colab-df-container\">\n",
              "      <div>\n",
              "<style scoped>\n",
              "    .dataframe tbody tr th:only-of-type {\n",
              "        vertical-align: middle;\n",
              "    }\n",
              "\n",
              "    .dataframe tbody tr th {\n",
              "        vertical-align: top;\n",
              "    }\n",
              "\n",
              "    .dataframe thead th {\n",
              "        text-align: right;\n",
              "    }\n",
              "</style>\n",
              "<table border=\"1\" class=\"dataframe\">\n",
              "  <thead>\n",
              "    <tr style=\"text-align: right;\">\n",
              "      <th></th>\n",
              "      <th>Sl. No.</th>\n",
              "      <th>Year</th>\n",
              "      <th>State/UT</th>\n",
              "      <th>Institutional Care (Homes) - Number Assisted</th>\n",
              "      <th>Institutional Care (Homes) - Beneficiaries</th>\n",
              "      <th>Open Shelters - Number Assisted</th>\n",
              "      <th>Open Shelters - Beneficiaries</th>\n",
              "      <th>Specialised Adoption Agencies - Number Assisted</th>\n",
              "      <th>Specialised Adoption Agencies - Beneficiaries</th>\n",
              "      <th>Juvenile Justice Board - Number Assisted</th>\n",
              "    </tr>\n",
              "  </thead>\n",
              "  <tbody>\n",
              "    <tr>\n",
              "      <th>0</th>\n",
              "      <td>1</td>\n",
              "      <td>2018-19</td>\n",
              "      <td>Andhra Pradesh</td>\n",
              "      <td>66.0</td>\n",
              "      <td>2316.0</td>\n",
              "      <td>13.0</td>\n",
              "      <td>342.0</td>\n",
              "      <td>14.0</td>\n",
              "      <td>144.0</td>\n",
              "      <td>13</td>\n",
              "    </tr>\n",
              "    <tr>\n",
              "      <th>1</th>\n",
              "      <td>2</td>\n",
              "      <td>2018-19</td>\n",
              "      <td>Arunachal Pradesh</td>\n",
              "      <td>4.0</td>\n",
              "      <td>76.0</td>\n",
              "      <td>0.0</td>\n",
              "      <td>0.0</td>\n",
              "      <td>1.0</td>\n",
              "      <td>9.0</td>\n",
              "      <td>21</td>\n",
              "    </tr>\n",
              "    <tr>\n",
              "      <th>2</th>\n",
              "      <td>3</td>\n",
              "      <td>2018-19</td>\n",
              "      <td>Assam</td>\n",
              "      <td>37.0</td>\n",
              "      <td>1765.0</td>\n",
              "      <td>3.0</td>\n",
              "      <td>51.0</td>\n",
              "      <td>23.0</td>\n",
              "      <td>69.0</td>\n",
              "      <td>33</td>\n",
              "    </tr>\n",
              "    <tr>\n",
              "      <th>3</th>\n",
              "      <td>4</td>\n",
              "      <td>2018-19</td>\n",
              "      <td>Bihar</td>\n",
              "      <td>26.0</td>\n",
              "      <td>1567.0</td>\n",
              "      <td>5.0</td>\n",
              "      <td>134.0</td>\n",
              "      <td>13.0</td>\n",
              "      <td>138.0</td>\n",
              "      <td>38</td>\n",
              "    </tr>\n",
              "    <tr>\n",
              "      <th>4</th>\n",
              "      <td>5</td>\n",
              "      <td>2018-19</td>\n",
              "      <td>Chhattisgarh</td>\n",
              "      <td>65.0</td>\n",
              "      <td>2325.0</td>\n",
              "      <td>10.0</td>\n",
              "      <td>117.0</td>\n",
              "      <td>12.0</td>\n",
              "      <td>120.0</td>\n",
              "      <td>27</td>\n",
              "    </tr>\n",
              "    <tr>\n",
              "      <th>...</th>\n",
              "      <td>...</td>\n",
              "      <td>...</td>\n",
              "      <td>...</td>\n",
              "      <td>...</td>\n",
              "      <td>...</td>\n",
              "      <td>...</td>\n",
              "      <td>...</td>\n",
              "      <td>...</td>\n",
              "      <td>...</td>\n",
              "      <td>...</td>\n",
              "    </tr>\n",
              "    <tr>\n",
              "      <th>106</th>\n",
              "      <td>33</td>\n",
              "      <td>2020-21</td>\n",
              "      <td>Ladakh</td>\n",
              "      <td>NaN</td>\n",
              "      <td>NaN</td>\n",
              "      <td>NaN</td>\n",
              "      <td>NaN</td>\n",
              "      <td>NaN</td>\n",
              "      <td>NaN</td>\n",
              "      <td>2</td>\n",
              "    </tr>\n",
              "    <tr>\n",
              "      <th>107</th>\n",
              "      <td>34</td>\n",
              "      <td>2020-21</td>\n",
              "      <td>Lakshadweep</td>\n",
              "      <td>NaN</td>\n",
              "      <td>NaN</td>\n",
              "      <td>NaN</td>\n",
              "      <td>NaN</td>\n",
              "      <td>NaN</td>\n",
              "      <td>NaN</td>\n",
              "      <td>1</td>\n",
              "    </tr>\n",
              "    <tr>\n",
              "      <th>108</th>\n",
              "      <td>35</td>\n",
              "      <td>2020-21</td>\n",
              "      <td>Delhi</td>\n",
              "      <td>28.0</td>\n",
              "      <td>1196.0</td>\n",
              "      <td>9.0</td>\n",
              "      <td>254.0</td>\n",
              "      <td>3.0</td>\n",
              "      <td>50.0</td>\n",
              "      <td>6</td>\n",
              "    </tr>\n",
              "    <tr>\n",
              "      <th>109</th>\n",
              "      <td>36</td>\n",
              "      <td>2020-21</td>\n",
              "      <td>Puducherry</td>\n",
              "      <td>25.0</td>\n",
              "      <td>906.0</td>\n",
              "      <td>1.0</td>\n",
              "      <td>15.0</td>\n",
              "      <td>2.0</td>\n",
              "      <td>35.0</td>\n",
              "      <td>4</td>\n",
              "    </tr>\n",
              "    <tr>\n",
              "      <th>110</th>\n",
              "      <td>Total</td>\n",
              "      <td>2020-21</td>\n",
              "      <td>Total</td>\n",
              "      <td>1592.0</td>\n",
              "      <td>67864.0</td>\n",
              "      <td>250.0</td>\n",
              "      <td>6000.0</td>\n",
              "      <td>373.0</td>\n",
              "      <td>3751.0</td>\n",
              "      <td>717</td>\n",
              "    </tr>\n",
              "  </tbody>\n",
              "</table>\n",
              "<p>111 rows × 10 columns</p>\n",
              "</div>\n",
              "      <button class=\"colab-df-convert\" onclick=\"convertToInteractive('df-ab0195f4-8b09-4f17-bb79-643346e05f0b')\"\n",
              "              title=\"Convert this dataframe to an interactive table.\"\n",
              "              style=\"display:none;\">\n",
              "        \n",
              "  <svg xmlns=\"http://www.w3.org/2000/svg\" height=\"24px\"viewBox=\"0 0 24 24\"\n",
              "       width=\"24px\">\n",
              "    <path d=\"M0 0h24v24H0V0z\" fill=\"none\"/>\n",
              "    <path d=\"M18.56 5.44l.94 2.06.94-2.06 2.06-.94-2.06-.94-.94-2.06-.94 2.06-2.06.94zm-11 1L8.5 8.5l.94-2.06 2.06-.94-2.06-.94L8.5 2.5l-.94 2.06-2.06.94zm10 10l.94 2.06.94-2.06 2.06-.94-2.06-.94-.94-2.06-.94 2.06-2.06.94z\"/><path d=\"M17.41 7.96l-1.37-1.37c-.4-.4-.92-.59-1.43-.59-.52 0-1.04.2-1.43.59L10.3 9.45l-7.72 7.72c-.78.78-.78 2.05 0 2.83L4 21.41c.39.39.9.59 1.41.59.51 0 1.02-.2 1.41-.59l7.78-7.78 2.81-2.81c.8-.78.8-2.07 0-2.86zM5.41 20L4 18.59l7.72-7.72 1.47 1.35L5.41 20z\"/>\n",
              "  </svg>\n",
              "      </button>\n",
              "      \n",
              "  <style>\n",
              "    .colab-df-container {\n",
              "      display:flex;\n",
              "      flex-wrap:wrap;\n",
              "      gap: 12px;\n",
              "    }\n",
              "\n",
              "    .colab-df-convert {\n",
              "      background-color: #E8F0FE;\n",
              "      border: none;\n",
              "      border-radius: 50%;\n",
              "      cursor: pointer;\n",
              "      display: none;\n",
              "      fill: #1967D2;\n",
              "      height: 32px;\n",
              "      padding: 0 0 0 0;\n",
              "      width: 32px;\n",
              "    }\n",
              "\n",
              "    .colab-df-convert:hover {\n",
              "      background-color: #E2EBFA;\n",
              "      box-shadow: 0px 1px 2px rgba(60, 64, 67, 0.3), 0px 1px 3px 1px rgba(60, 64, 67, 0.15);\n",
              "      fill: #174EA6;\n",
              "    }\n",
              "\n",
              "    [theme=dark] .colab-df-convert {\n",
              "      background-color: #3B4455;\n",
              "      fill: #D2E3FC;\n",
              "    }\n",
              "\n",
              "    [theme=dark] .colab-df-convert:hover {\n",
              "      background-color: #434B5C;\n",
              "      box-shadow: 0px 1px 3px 1px rgba(0, 0, 0, 0.15);\n",
              "      filter: drop-shadow(0px 1px 2px rgba(0, 0, 0, 0.3));\n",
              "      fill: #FFFFFF;\n",
              "    }\n",
              "  </style>\n",
              "\n",
              "      <script>\n",
              "        const buttonEl =\n",
              "          document.querySelector('#df-ab0195f4-8b09-4f17-bb79-643346e05f0b button.colab-df-convert');\n",
              "        buttonEl.style.display =\n",
              "          google.colab.kernel.accessAllowed ? 'block' : 'none';\n",
              "\n",
              "        async function convertToInteractive(key) {\n",
              "          const element = document.querySelector('#df-ab0195f4-8b09-4f17-bb79-643346e05f0b');\n",
              "          const dataTable =\n",
              "            await google.colab.kernel.invokeFunction('convertToInteractive',\n",
              "                                                     [key], {});\n",
              "          if (!dataTable) return;\n",
              "\n",
              "          const docLinkHtml = 'Like what you see? Visit the ' +\n",
              "            '<a target=\"_blank\" href=https://colab.research.google.com/notebooks/data_table.ipynb>data table notebook</a>'\n",
              "            + ' to learn more about interactive tables.';\n",
              "          element.innerHTML = '';\n",
              "          dataTable['output_type'] = 'display_data';\n",
              "          await google.colab.output.renderOutput(dataTable, element);\n",
              "          const docLink = document.createElement('div');\n",
              "          docLink.innerHTML = docLinkHtml;\n",
              "          element.appendChild(docLink);\n",
              "        }\n",
              "      </script>\n",
              "    </div>\n",
              "  </div>\n",
              "  "
            ]
          },
          "metadata": {},
          "execution_count": 10
        }
      ]
    },
    {
      "cell_type": "code",
      "source": [
        "#DATA CLEANING AND PREPROCESSING\n",
        " #1.Drop unnecessary columns:\n",
        "df.drop(['Sl. No.','Year','Institutional Care (Homes) - Number Assisted','Institutional Care (Homes) - Beneficiaries','Open Shelters - Number Assisted','Open Shelters - Beneficiaries','Specialised Adoption Agencies - Number Assisted','Specialised Adoption Agencies - Beneficiaries'], axis=1, inplace=True)\n",
        " #2.Check for missing values:\n",
        "df.isnull().sum()\n",
        " #3.Encode categorical variables:\n",
        "df = pd.get_dummies(df, columns=['State/UT'])"
      ],
      "metadata": {
        "id": "DhL8gqiklwda"
      },
      "execution_count": null,
      "outputs": []
    },
    {
      "cell_type": "code",
      "source": [
        "#4.Normalize the data:\n",
        "from sklearn.preprocessing import MinMaxScaler\n",
        "scaler = MinMaxScaler()\n",
        "df_scaled = pd.DataFrame(scaler.fit_transform(df), columns=df.columns)"
      ],
      "metadata": {
        "id": "4gDSa9hEnh84"
      },
      "execution_count": null,
      "outputs": []
    },
    {
      "cell_type": "code",
      "source": [
        "#EXPLORATORY DATA ANAYLSIS\n",
        "#Check the structure of the dataset\n",
        "print(df.head())"
      ],
      "metadata": {
        "colab": {
          "base_uri": "https://localhost:8080/"
        },
        "id": "wxKO6VH6ohyg",
        "outputId": "487fa528-b051-437f-a85e-89343a232d82"
      },
      "execution_count": null,
      "outputs": [
        {
          "output_type": "stream",
          "name": "stdout",
          "text": [
            "   Juvenile Justice Board - Number Assisted  \\\n",
            "0                                        13   \n",
            "1                                        21   \n",
            "2                                        33   \n",
            "3                                        38   \n",
            "4                                        27   \n",
            "\n",
            "   State/UT_Andaman & Nicobar Islands  State/UT_Andhra Pradesh  \\\n",
            "0                                   0                        1   \n",
            "1                                   0                        0   \n",
            "2                                   0                        0   \n",
            "3                                   0                        0   \n",
            "4                                   0                        0   \n",
            "\n",
            "   State/UT_Arunachal Pradesh  State/UT_Assam  State/UT_Bihar  \\\n",
            "0                           0               0               0   \n",
            "1                           1               0               0   \n",
            "2                           0               1               0   \n",
            "3                           0               0               1   \n",
            "4                           0               0               0   \n",
            "\n",
            "   State/UT_Chandigarh  State/UT_Chhattisgarh  \\\n",
            "0                    0                      0   \n",
            "1                    0                      0   \n",
            "2                    0                      0   \n",
            "3                    0                      0   \n",
            "4                    0                      1   \n",
            "\n",
            "   State/UT_Dadra & Nagar Haveli and Daman & Diu  \\\n",
            "0                                              0   \n",
            "1                                              0   \n",
            "2                                              0   \n",
            "3                                              0   \n",
            "4                                              0   \n",
            "\n",
            "   State/UT_Dadra and Nagar Haveli  ...  State/UT_Punjab  State/UT_Rajasthan  \\\n",
            "0                                0  ...                0                   0   \n",
            "1                                0  ...                0                   0   \n",
            "2                                0  ...                0                   0   \n",
            "3                                0  ...                0                   0   \n",
            "4                                0  ...                0                   0   \n",
            "\n",
            "   State/UT_Sikkim  State/UT_Tamil Nadu  State/UT_Telangana  State/UT_Total  \\\n",
            "0                0                    0                   0               0   \n",
            "1                0                    0                   0               0   \n",
            "2                0                    0                   0               0   \n",
            "3                0                    0                   0               0   \n",
            "4                0                    0                   0               0   \n",
            "\n",
            "   State/UT_Tripura  State/UT_Uttar Pradesh  State/UT_Uttarakhand  \\\n",
            "0                 0                       0                     0   \n",
            "1                 0                       0                     0   \n",
            "2                 0                       0                     0   \n",
            "3                 0                       0                     0   \n",
            "4                 0                       0                     0   \n",
            "\n",
            "   State/UT_West Bengal  \n",
            "0                     0  \n",
            "1                     0  \n",
            "2                     0  \n",
            "3                     0  \n",
            "4                     0  \n",
            "\n",
            "[5 rows x 40 columns]\n"
          ]
        }
      ]
    },
    {
      "cell_type": "code",
      "source": [
        "#Check the information of the dataset\n",
        "print(df.info())"
      ],
      "metadata": {
        "colab": {
          "base_uri": "https://localhost:8080/"
        },
        "id": "a8f3Xn4Pop_R",
        "outputId": "e42c4e63-7948-4a3a-e722-87d76e49bab0"
      },
      "execution_count": null,
      "outputs": [
        {
          "output_type": "stream",
          "name": "stdout",
          "text": [
            "<class 'pandas.core.frame.DataFrame'>\n",
            "RangeIndex: 111 entries, 0 to 110\n",
            "Data columns (total 40 columns):\n",
            " #   Column                                         Non-Null Count  Dtype\n",
            "---  ------                                         --------------  -----\n",
            " 0   Juvenile Justice Board - Number Assisted       111 non-null    int64\n",
            " 1   State/UT_Andaman & Nicobar Islands             111 non-null    uint8\n",
            " 2   State/UT_Andhra Pradesh                        111 non-null    uint8\n",
            " 3   State/UT_Arunachal Pradesh                     111 non-null    uint8\n",
            " 4   State/UT_Assam                                 111 non-null    uint8\n",
            " 5   State/UT_Bihar                                 111 non-null    uint8\n",
            " 6   State/UT_Chandigarh                            111 non-null    uint8\n",
            " 7   State/UT_Chhattisgarh                          111 non-null    uint8\n",
            " 8   State/UT_Dadra & Nagar Haveli and Daman & Diu  111 non-null    uint8\n",
            " 9   State/UT_Dadra and Nagar Haveli                111 non-null    uint8\n",
            " 10  State/UT_Daman and Diu                         111 non-null    uint8\n",
            " 11  State/UT_Delhi                                 111 non-null    uint8\n",
            " 12  State/UT_Goa                                   111 non-null    uint8\n",
            " 13  State/UT_Gujarat                               111 non-null    uint8\n",
            " 14  State/UT_Haryana                               111 non-null    uint8\n",
            " 15  State/UT_Himachal Pradesh                      111 non-null    uint8\n",
            " 16  State/UT_Jammu and Kashmir                     111 non-null    uint8\n",
            " 17  State/UT_Jharkhand                             111 non-null    uint8\n",
            " 18  State/UT_Karnataka                             111 non-null    uint8\n",
            " 19  State/UT_Kerala                                111 non-null    uint8\n",
            " 20  State/UT_Ladakh                                111 non-null    uint8\n",
            " 21  State/UT_Lakshadweep                           111 non-null    uint8\n",
            " 22  State/UT_Madhya Pradesh                        111 non-null    uint8\n",
            " 23  State/UT_Maharashtra                           111 non-null    uint8\n",
            " 24  State/UT_Manipur                               111 non-null    uint8\n",
            " 25  State/UT_Meghalaya                             111 non-null    uint8\n",
            " 26  State/UT_Mizoram                               111 non-null    uint8\n",
            " 27  State/UT_Nagaland                              111 non-null    uint8\n",
            " 28  State/UT_Orissa                                111 non-null    uint8\n",
            " 29  State/UT_Puducherry                            111 non-null    uint8\n",
            " 30  State/UT_Punjab                                111 non-null    uint8\n",
            " 31  State/UT_Rajasthan                             111 non-null    uint8\n",
            " 32  State/UT_Sikkim                                111 non-null    uint8\n",
            " 33  State/UT_Tamil Nadu                            111 non-null    uint8\n",
            " 34  State/UT_Telangana                             111 non-null    uint8\n",
            " 35  State/UT_Total                                 111 non-null    uint8\n",
            " 36  State/UT_Tripura                               111 non-null    uint8\n",
            " 37  State/UT_Uttar Pradesh                         111 non-null    uint8\n",
            " 38  State/UT_Uttarakhand                           111 non-null    uint8\n",
            " 39  State/UT_West Bengal                           111 non-null    uint8\n",
            "dtypes: int64(1), uint8(39)\n",
            "memory usage: 5.2 KB\n",
            "None\n"
          ]
        }
      ]
    },
    {
      "cell_type": "code",
      "source": [
        "#Check the summary statistics of the dataset\n",
        "print(df.describe())"
      ],
      "metadata": {
        "colab": {
          "base_uri": "https://localhost:8080/"
        },
        "id": "z3FB7f70oyw8",
        "outputId": "4b7400e2-c009-4c65-b98a-009c1629e269"
      },
      "execution_count": null,
      "outputs": [
        {
          "output_type": "stream",
          "name": "stdout",
          "text": [
            "       Juvenile Justice Board - Number Assisted  \\\n",
            "count                                111.000000   \n",
            "mean                                  38.324324   \n",
            "std                                  113.411172   \n",
            "min                                    1.000000   \n",
            "25%                                    8.000000   \n",
            "50%                                   16.000000   \n",
            "75%                                   32.500000   \n",
            "max                                  717.000000   \n",
            "\n",
            "       State/UT_Andaman & Nicobar Islands  State/UT_Andhra Pradesh  \\\n",
            "count                          111.000000               111.000000   \n",
            "mean                             0.027027                 0.027027   \n",
            "std                              0.162898                 0.162898   \n",
            "min                              0.000000                 0.000000   \n",
            "25%                              0.000000                 0.000000   \n",
            "50%                              0.000000                 0.000000   \n",
            "75%                              0.000000                 0.000000   \n",
            "max                              1.000000                 1.000000   \n",
            "\n",
            "       State/UT_Arunachal Pradesh  State/UT_Assam  State/UT_Bihar  \\\n",
            "count                  111.000000      111.000000      111.000000   \n",
            "mean                     0.027027        0.027027        0.027027   \n",
            "std                      0.162898        0.162898        0.162898   \n",
            "min                      0.000000        0.000000        0.000000   \n",
            "25%                      0.000000        0.000000        0.000000   \n",
            "50%                      0.000000        0.000000        0.000000   \n",
            "75%                      0.000000        0.000000        0.000000   \n",
            "max                      1.000000        1.000000        1.000000   \n",
            "\n",
            "       State/UT_Chandigarh  State/UT_Chhattisgarh  \\\n",
            "count           111.000000             111.000000   \n",
            "mean              0.027027               0.027027   \n",
            "std               0.162898               0.162898   \n",
            "min               0.000000               0.000000   \n",
            "25%               0.000000               0.000000   \n",
            "50%               0.000000               0.000000   \n",
            "75%               0.000000               0.000000   \n",
            "max               1.000000               1.000000   \n",
            "\n",
            "       State/UT_Dadra & Nagar Haveli and Daman & Diu  \\\n",
            "count                                     111.000000   \n",
            "mean                                        0.009009   \n",
            "std                                         0.094916   \n",
            "min                                         0.000000   \n",
            "25%                                         0.000000   \n",
            "50%                                         0.000000   \n",
            "75%                                         0.000000   \n",
            "max                                         1.000000   \n",
            "\n",
            "       State/UT_Dadra and Nagar Haveli  ...  State/UT_Punjab  \\\n",
            "count                       111.000000  ...       111.000000   \n",
            "mean                          0.018018  ...         0.027027   \n",
            "std                           0.133620  ...         0.162898   \n",
            "min                           0.000000  ...         0.000000   \n",
            "25%                           0.000000  ...         0.000000   \n",
            "50%                           0.000000  ...         0.000000   \n",
            "75%                           0.000000  ...         0.000000   \n",
            "max                           1.000000  ...         1.000000   \n",
            "\n",
            "       State/UT_Rajasthan  State/UT_Sikkim  State/UT_Tamil Nadu  \\\n",
            "count          111.000000       111.000000           111.000000   \n",
            "mean             0.027027         0.027027             0.027027   \n",
            "std              0.162898         0.162898             0.162898   \n",
            "min              0.000000         0.000000             0.000000   \n",
            "25%              0.000000         0.000000             0.000000   \n",
            "50%              0.000000         0.000000             0.000000   \n",
            "75%              0.000000         0.000000             0.000000   \n",
            "max              1.000000         1.000000             1.000000   \n",
            "\n",
            "       State/UT_Telangana  State/UT_Total  State/UT_Tripura  \\\n",
            "count          111.000000      111.000000        111.000000   \n",
            "mean             0.027027        0.027027          0.027027   \n",
            "std              0.162898        0.162898          0.162898   \n",
            "min              0.000000        0.000000          0.000000   \n",
            "25%              0.000000        0.000000          0.000000   \n",
            "50%              0.000000        0.000000          0.000000   \n",
            "75%              0.000000        0.000000          0.000000   \n",
            "max              1.000000        1.000000          1.000000   \n",
            "\n",
            "       State/UT_Uttar Pradesh  State/UT_Uttarakhand  State/UT_West Bengal  \n",
            "count              111.000000            111.000000            111.000000  \n",
            "mean                 0.027027              0.027027              0.027027  \n",
            "std                  0.162898              0.162898              0.162898  \n",
            "min                  0.000000              0.000000              0.000000  \n",
            "25%                  0.000000              0.000000              0.000000  \n",
            "50%                  0.000000              0.000000              0.000000  \n",
            "75%                  0.000000              0.000000              0.000000  \n",
            "max                  1.000000              1.000000              1.000000  \n",
            "\n",
            "[8 rows x 40 columns]\n"
          ]
        }
      ]
    },
    {
      "cell_type": "code",
      "source": [
        "# Visualizing target variable distribution\n",
        "plt.plot(df['Juvenile Justice Board - Number Assisted'])\n",
        "plt.show()"
      ],
      "metadata": {
        "colab": {
          "base_uri": "https://localhost:8080/",
          "height": 265
        },
        "id": "u7rOa1APo3KZ",
        "outputId": "e877c14c-7c1f-4d12-c9b1-daf5d22871dd"
      },
      "execution_count": null,
      "outputs": [
        {
          "output_type": "display_data",
          "data": {
            "text/plain": [
              "<Figure size 432x288 with 1 Axes>"
            ],
            "image/png": "[encoded data removed]"
          },
          "metadata": {
            "needs_background": "light"
          }
        }
      ]
    },
    {
      "cell_type": "code",
      "source": [
        "#Correlation\n",
        "corr = df.corr()\n",
        "sns.heatmap(corr, annot=True, cmap='coolwarm')\n",
        "plt.show()"
      ],
      "metadata": {
        "colab": {
          "base_uri": "https://localhost:8080/",
          "height": 509
        },
        "id": "S8nGssoDqD7q",
        "outputId": "89994c78-f140-411c-92be-c393158c96d6"
      },
      "execution_count": null,
      "outputs": [
        {
          "output_type": "display_data",
          "data": {
            "text/plain": [
              "<Figure size 432x288 with 2 Axes>"
            ],
            "image/png": "[encoded data removed]"
          },
          "metadata": {
            "needs_background": "light"
          }
        }
      ]
    },
    {
      "cell_type": "code",
      "source": [
        "#EXPLORATORY DATA ANALYSIS\n",
        "#Central tendancy measure\n",
        "print('Mean',df['Juvenile Justice Board - Number Assisted'].mean())\n",
        "print('Median',df['Juvenile Justice Board - Number Assisted'].median())\n",
        "print('Mode',df['Juvenile Justice Board - Number Assisted'].mode())"
      ],
      "metadata": {
        "colab": {
          "base_uri": "https://localhost:8080/"
        },
        "id": "FJqJJMWxvupq",
        "outputId": "c09439d1-8014-47bf-c65a-c60b825ab333"
      },
      "execution_count": null,
      "outputs": [
        {
          "output_type": "stream",
          "name": "stdout",
          "text": [
            "Mean 38.32432432432432\n",
            "Median 16.0\n",
            "Mode 0     1\n",
            "1    22\n",
            "dtype: int64\n"
          ]
        }
      ]
    },
    {
      "cell_type": "code",
      "source": [
        "#Measure of dispersion\n",
        "min=df['Juvenile Justice Board - Number Assisted'].min()\n",
        "max=df['Juvenile Justice Board - Number Assisted'].max()\n",
        "print(min,max)\n",
        "print('Range',max-min)\n",
        "print('var',df['Juvenile Justice Board - Number Assisted'].var())\n",
        "print('std',df['Juvenile Justice Board - Number Assisted'].std())"
      ],
      "metadata": {
        "colab": {
          "base_uri": "https://localhost:8080/"
        },
        "id": "SK7Vy63hw_m-",
        "outputId": "25dafb13-16e1-4f5b-f17f-d2183493e518"
      },
      "execution_count": null,
      "outputs": [
        {
          "output_type": "stream",
          "name": "stdout",
          "text": [
            "1 717\n",
            "Range 716\n",
            "var 12862.093857493852\n",
            "std 113.41117166088115\n"
          ]
        }
      ]
    },
    {
      "cell_type": "code",
      "source": [
        "#IQR\n",
        "Q1=df['Juvenile Justice Board - Number Assisted'].quantile(.25)\n",
        "Q3=df['Juvenile Justice Board - Number Assisted'].quantile(.75)\n",
        "print('IQR',Q3-Q1)"
      ],
      "metadata": {
        "colab": {
          "base_uri": "https://localhost:8080/"
        },
        "id": "_EpEEtDSxQqD",
        "outputId": "1edc6300-5f02-424f-f92b-4acc0e624f15"
      },
      "execution_count": null,
      "outputs": [
        {
          "output_type": "stream",
          "name": "stdout",
          "text": [
            "IQR 24.5\n"
          ]
        }
      ]
    },
    {
      "cell_type": "code",
      "source": [
        "#ZCORE \n",
        "import scipy.stats as stats\n",
        "Zscore=stats.zscore(df['Juvenile Justice Board - Number Assisted'])\n",
        "print('Zscore',Zscore)"
      ],
      "metadata": {
        "colab": {
          "base_uri": "https://localhost:8080/"
        },
        "id": "q8qRHddhxaAe",
        "outputId": "06cf227b-7bc0-4ac9-fc6c-07626849105b"
      },
      "execution_count": null,
      "outputs": [
        {
          "output_type": "stream",
          "name": "stdout",
          "text": [
            "Zscore 0     -0.224309\n",
            "1     -0.153450\n",
            "2     -0.047160\n",
            "3     -0.002873\n",
            "4     -0.100305\n",
            "         ...   \n",
            "106   -0.321741\n",
            "107   -0.330599\n",
            "108   -0.286311\n",
            "109   -0.304026\n",
            "110    6.011344\n",
            "Name: Juvenile Justice Board - Number Assisted, Length: 111, dtype: float64\n"
          ]
        }
      ]
    },
    {
      "cell_type": "code",
      "source": [
        "#BOXPLOT (OUTLIER DETECTION)\n",
        "import seaborn as sns\n",
        "sns.catplot(x='Juvenile Justice Board - Number Assisted',kind='box',data=df)\n",
        "print('Mean',df['Juvenile Justice Board - Number Assisted'].mean())\n",
        "print( 'Median' ,df['Juvenile Justice Board - Number Assisted'].median())\n",
        "print( 'Mode' ,df[ 'Juvenile Justice Board - Number Assisted' ].mode())"
      ],
      "metadata": {
        "colab": {
          "base_uri": "https://localhost:8080/",
          "height": 456
        },
        "id": "0nfZz64vx0D_",
        "outputId": "02a3f6f4-6bc2-457a-e6b2-1a1b7a62ba98"
      },
      "execution_count": null,
      "outputs": [
        {
          "output_type": "stream",
          "name": "stdout",
          "text": [
            "Mean 38.32432432432432\n",
            "Median 16.0\n",
            "Mode 0     1\n",
            "1    22\n",
            "dtype: int64\n"
          ]
        },
        {
          "output_type": "display_data",
          "data": {
            "text/plain": [
              "<Figure size 360x360 with 1 Axes>"
            ],
            "image/png": "[encoded data removed]"
          },
          "metadata": {
            "needs_background": "light"
          }
        }
      ]
    },
    {
      "cell_type": "code",
      "source": [
        "#REMOVING OUTLIER\n",
        "Ql=df['Juvenile Justice Board - Number Assisted'].quantile(.25)\n",
        "Q3=df['Juvenile Justice Board - Number Assisted'].quantile(.75)\n",
        "IQR=Q3-Q1\n",
        "print('IQR',Q3-Q1)\n",
        "lb=Q1-1.5*IQR\n",
        "\n",
        "ub=Q3+1.5*IQR\n",
        "\n",
        "dfout=df[(df['Juvenile Justice Board - Number Assisted']>lb) & (df['Juvenile Justice Board - Number Assisted']<ub) ]\n",
        "dfout.shape\n",
        "dfout.tail()\n",
        "sns.catplot(x='Juvenile Justice Board - Number Assisted',kind='box',data=dfout)"
      ],
      "metadata": {
        "colab": {
          "base_uri": "https://localhost:8080/",
          "height": 404
        },
        "id": "g1HIfPWMx8kW",
        "outputId": "49f0009f-ae90-4b17-f9b0-b7dd2520a943"
      },
      "execution_count": null,
      "outputs": [
        {
          "output_type": "stream",
          "name": "stdout",
          "text": [
            "IQR 24.5\n"
          ]
        },
        {
          "output_type": "execute_result",
          "data": {
            "text/plain": [
              "<seaborn.axisgrid.FacetGrid at 0x7f0c2add3d30>"
            ]
          },
          "metadata": {},
          "execution_count": 23
        },
        {
          "output_type": "display_data",
          "data": {
            "text/plain": [
              "<Figure size 360x360 with 1 Axes>"
            ],
            "image/png": "[encoded data removed]"
          },
          "metadata": {
            "needs_background": "light"
          }
        }
      ]
    },
    {
      "cell_type": "code",
      "source": [
        "#Spliting the data into training and testing sets\n",
        "from sklearn.model_selection import train_test_split\n",
        "X = df.drop(['Juvenile Justice Board - Number Assisted'], axis=1)\n",
        "y = df['Juvenile Justice Board - Number Assisted']\n",
        "X_train, X_test, y_train, y_test = train_test_split(X, y, test_size=0.2, random_state=42)\n",
        "\n",
        "#Linear regression model\n",
        "from sklearn.linear_model import LinearRegression\n",
        "model = LinearRegression()\n",
        "\n",
        "#Training the model on the training data\n",
        "model.fit(X_train, y_train)\n",
        "\n",
        "#Make predictions on the test data\n",
        "y_pred = model.predict(X_test)\n",
        "\n",
        "#Evaluate the model (PERFORMANCE METRICS)\n",
        "from sklearn.metrics import r2_score, mean_squared_error\n",
        "r2 = r2_score(y_test, y_pred)\n",
        "mse = mean_squared_error(y_test, y_pred)\n",
        "rmse = np.sqrt(mse)\n",
        "print('R2 score:', r2)\n",
        "print('Mean squared error:', mse)\n",
        "print('Root mean squared error:', rmse)"
      ],
      "metadata": {
        "colab": {
          "base_uri": "https://localhost:8080/"
        },
        "id": "T6iHYivS1TnV",
        "outputId": "45ad4b4c-830d-4ff3-8cc4-a20044f545e9"
      },
      "execution_count": null,
      "outputs": [
        {
          "output_type": "stream",
          "name": "stdout",
          "text": [
            "R2 score: 0.9996828920399103\n",
            "Mean squared error: 6.360733695652174\n",
            "Root mean squared error: 2.5220495030138035\n"
          ]
        }
      ]
    }
  ]
}